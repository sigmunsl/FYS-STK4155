{
 "cells": [
  {
   "cell_type": "code",
   "execution_count": 1,
   "metadata": {},
   "outputs": [],
   "source": [
    "# create dataset and create design matrix\n",
    "import numpy as np\n",
    "\n",
    "x = np.random.rand(100,1) \n",
    "y = 5*x*x+0.1*np.random.randn(100,1)\n",
    "\n",
    "X = np.empty((len(x), 3))\n",
    "\n",
    "X[:, 0] = 1\n",
    "X[:, 1] = x[:, 0]\n",
    "X[:, 2] = x[:, 0]**2"
   ]
  },
  {
   "cell_type": "code",
   "execution_count": 16,
   "metadata": {},
   "outputs": [],
   "source": [
    "# define lambda and invert\n",
    "\n",
    "la       = 0.1\n",
    "toinvert = X.T.dot(X) + la*np.eye((X.shape[1]))\n",
    "beta     = np.linalg.inv(toinvert).dot(X.T).dot(y)\n",
    "\n",
    "ytilde   = X @ beta\n",
    "\n"
   ]
  },
  {
   "cell_type": "code",
   "execution_count": null,
   "metadata": {},
   "outputs": [],
   "source": []
  }
 ],
 "metadata": {
  "kernelspec": {
   "display_name": "Python 3",
   "language": "python",
   "name": "python3"
  },
  "language_info": {
   "codemirror_mode": {
    "name": "ipython",
    "version": 3
   },
   "file_extension": ".py",
   "mimetype": "text/x-python",
   "name": "python",
   "nbconvert_exporter": "python",
   "pygments_lexer": "ipython3",
   "version": "3.7.3"
  }
 },
 "nbformat": 4,
 "nbformat_minor": 2
}
