{
 "cells": [
  {
   "cell_type": "code",
   "execution_count": 113,
   "metadata": {},
   "outputs": [],
   "source": [
    "import numpy as np\n",
    "import matplotlib.pyplot as plt\n",
    "import sklearn.linear_model as skl\n",
    "import sklearn.metrics as sklm"
   ]
  },
  {
   "cell_type": "markdown",
   "metadata": {},
   "source": [
    "### Exercise 2"
   ]
  },
  {
   "cell_type": "code",
   "execution_count": 92,
   "metadata": {},
   "outputs": [],
   "source": [
    "x = np.expand_dims(np.sort(np.random.rand(100,1), None), -1)\n",
    "y = 5*x*x+0.1*np.random.rand(100,1)"
   ]
  },
  {
   "cell_type": "code",
   "execution_count": 93,
   "metadata": {},
   "outputs": [],
   "source": [
    "X = np.empty((len(x), 3))\n",
    "\n",
    "X[:, 0] = 1\n",
    "X[:, 1] = x[:, 0]\n",
    "X[:, 2] = x[:, 0]**2"
   ]
  },
  {
   "cell_type": "code",
   "execution_count": 96,
   "metadata": {},
   "outputs": [],
   "source": [
    "beta = np.linalg.inv(X.T.dot(X)).dot(X.T).dot(y)\n",
    "\n",
    "ytilde = X @ beta"
   ]
  },
  {
   "cell_type": "code",
   "execution_count": 95,
   "metadata": {},
   "outputs": [
    {
     "data": {
      "image/png": "[encoded data removed]",
      "text/plain": [
       "<Figure size 432x288 with 1 Axes>"
      ]
     },
     "metadata": {
      "needs_background": "light"
     },
     "output_type": "display_data"
    }
   ],
   "source": [
    "plt.scatter(x, y)\n",
    "plt.plot(x, ytilde, color='red')\n",
    "plt.xlabel('X')\n",
    "plt.ylabel('Y')\n",
    "plt.show()"
   ]
  },
  {
   "cell_type": "code",
   "execution_count": 101,
   "metadata": {},
   "outputs": [],
   "source": [
    "clf = skl.LinearRegression().fit(X, y)\n",
    "ytilde_sk = clf.predict(X)"
   ]
  },
  {
   "cell_type": "code",
   "execution_count": 112,
   "metadata": {
    "scrolled": true
   },
   "outputs": [
    {
     "data": {
      "image/png": "[encoded data removed]",
      "text/plain": [
       "<Figure size 432x288 with 1 Axes>"
      ]
     },
     "metadata": {
      "needs_background": "light"
     },
     "output_type": "display_data"
    }
   ],
   "source": [
    "plt.scatter(x, y, color='orange')\n",
    "plt.plot(x, ytilde, color='blue', label='Custom', marker='o')\n",
    "plt.plot(x, ytilde_sk, color='red', label='Sklearn')\n",
    "plt.xlabel('X')\n",
    "plt.ylabel('Y')\n",
    "plt.legend()\n",
    "plt.show()"
   ]
  },
  {
   "cell_type": "code",
   "execution_count": 117,
   "metadata": {},
   "outputs": [
    {
     "name": "stdout",
     "output_type": "stream",
     "text": [
      "0.0007897541957481703 0.0007897541957481722\n"
     ]
    }
   ],
   "source": [
    "mse = sklm.mean_squared_error(y, ytilde)\n",
    "mse_sk = sklm.mean_squared_error(y, ytilde_sk)\n",
    "print(mse, mse_sk)"
   ]
  },
  {
   "cell_type": "code",
   "execution_count": 118,
   "metadata": {},
   "outputs": [
    {
     "name": "stdout",
     "output_type": "stream",
     "text": [
      "0.9996516186162966 0.9996516186162966\n"
     ]
    }
   ],
   "source": [
    "r2 = sklm.r2_score(y, ytilde)\n",
    "r2_sk = sklm.r2_score(y, ytilde_sk)\n",
    "print(r2, r2_sk)"
   ]
  },
  {
   "cell_type": "code",
   "execution_count": 119,
   "metadata": {},
   "outputs": [
    {
     "name": "stdout",
     "output_type": "stream",
     "text": [
      "0.023590549457190083 0.023590549457190413\n"
     ]
    }
   ],
   "source": [
    "mae = sklm.mean_absolute_error(y, ytilde)\n",
    "mae_sk = sklm.mean_absolute_error(y, ytilde_sk)\n",
    "print(mae, mae_sk)"
   ]
  },
  {
   "cell_type": "markdown",
   "metadata": {},
   "source": [
    "### Exercise 3"
   ]
  },
  {
   "cell_type": "markdown",
   "metadata": {},
   "source": [
    "Show that the expectation value of $\\tilde{y} = \\mathbf{X}\\beta$\n",
    "\n",
    "$\\mathbb{E}(y_i) = \\mathbb{E}(x_{i,*}, \\beta) + \\mathbb{E}(\\varepsilon)$\n",
    "\n",
    "We know that the $\\mathbb{E}(\\varepsilon) = 0$ and $\\mathbb{E}(x_{i,*}, \\beta) = x_{i,*}, \\beta$. We therefore get:\n",
    "\n",
    "$\\mathbb{E}(y_i) = \\mathbb{E}(x_{i,*}, \\beta) + 0 = x_{i,*}, \\beta$\n",
    "\n",
    "--------------------------------------------------------------------"
   ]
  },
  {
   "cell_type": "markdown",
   "metadata": {},
   "source": [
    "Show that $Var(y_i) = \\sigma^2$\n",
    "\n",
    "$Var(y_i) = \\mathbb{E}(y_i^2) - \\mathbb{E}(y_i)^2$\n",
    "\n",
    "$Var(y_i) = \\mathbb{E}((x_{i,*}, \\beta + \\varepsilon)^2) - (x_{i,*}, \\beta)^2$\n",
    "\n",
    "$Var(y_i) = \\mathbb{E}((x_{i,*}, \\beta)^2 + 2x_{i,*}, \\beta\\varepsilon + \\varepsilon^2) - (x_{i,*}, \\beta)^2$\n",
    "\n",
    "$Var(y_i) = \\mathbb{E}((x_{i,*}, \\beta)^2) + \\mathbb{E}(2x_{i,*}, \\beta\\varepsilon) + \\mathbb{E}(\\varepsilon^2) - (x_{i,*}, \\beta)^2$\n",
    "\n",
    "$Var(y_i) = (x_{i,*}, \\beta)^2 + \\mathbb{E}(2x_{i,*}, \\beta\\varepsilon) + \\mathbb{E}(\\varepsilon^2) - (x_{i,*}, \\beta)^2$\n",
    "\n",
    "$Var(y_i) = 2x_{i,*}, \\beta\\mathbb{E}(\\varepsilon) + \\mathbb{E}(\\varepsilon^2)$\n",
    "\n",
    "We know that $\\mathbb{E}(\\varepsilon) = 0$ and that $Var(\\varepsilon) = \\mathbb{E}(\\varepsilon)^2 - \\mathbb{E}(\\varepsilon^2)$. Hence:\n",
    "\n",
    "$Var(y_i) = 2x_{i,*}, \\beta\\mathbb{E}(\\varepsilon) + \\mathbb{E}(\\varepsilon^2) = Var(\\varepsilon) = \\sigma^2$\n",
    "\n",
    "--------------------------------------------------------------------"
   ]
  },
  {
   "cell_type": "markdown",
   "metadata": {},
   "source": [
    "Show that $\\mathbb{E}(\\beta) = \\beta$\n",
    "\n",
    "$\\mathbb{E}(\\beta) = (\\mathbf{X}^T\\mathbf{X})^{-1}\\mathbf{X}^T\\mathbb{E}(y)$\n",
    "\n",
    "$\\mathbb{E}(\\beta) = (\\mathbf{X}^T\\mathbf{X})^{-1}\\mathbf{X}^T\\mathbf{X}\\beta = \\beta$\n",
    "\n",
    "--------------------------------------------------------------------"
   ]
  },
  {
   "cell_type": "markdown",
   "metadata": {},
   "source": [
    "Show that $Var(\\beta) = \\sigma^2(\\mathbf{X}^T\\mathbf{X})$\n",
    "\n",
    "$Var(\\beta) = \\mathbb{E}(\\beta^2) - \\mathbb{E}(\\beta)^2$\n",
    "$Var(\\beta) = (\\mathbf{X}^T\\mathbf{X})^{-1}\\mathbf{X}^T\\mathbb{E}(y^2)\\mathbf{X}(\\mathbf{X}^T\\mathbf{X})^{-1} - \\beta^2$\n",
    "\n",
    "We know that $\\mathbb{E}(y^2) = \\sigma^2 + \\mathbf{X}\\mathbf{X}^T\\beta^2$ and get:\n",
    "\n",
    "$Var(\\beta) = (\\mathbf{X}^T\\mathbf{X})^{-1}\\mathbf{X}^T(\\sigma^2 + \\mathbf{X}\\mathbf{X}^T\\beta^2)\\mathbf{X}(\\mathbf{X}^T\\mathbf{X})^{-1} - \\beta^2$\n",
    "\n",
    "$Var(\\beta) = ((\\mathbf{X}^T\\mathbf{X})^{-1}\\mathbf{X}^T\\sigma^2 + (\\mathbf{X}^T\\mathbf{X})^{-1}\\mathbf{X}^T + \\mathbf{X}\\mathbf{X}^T\\beta^2)\\mathbf{X}(\\mathbf{X}^T\\mathbf{X})^{-1} - \\beta^2$\n",
    "\n",
    "$Var(\\beta) = (\\mathbf{X}^T\\mathbf{X})^{-1}\\mathbf{X}^T\\sigma^2\\mathbf{X}(\\mathbf{X}^T\\mathbf{X})^{-1} + \\mathbf{X}^T\\mathbf{X}(\\mathbf{X}^T\\mathbf{X})^{-1}\\beta^2 - \\beta^2$\n",
    "\n",
    "$Var(\\beta) = \\sigma^2(\\mathbf{X}^T\\mathbf{X})^{-1}$"
   ]
  }
 ],
 "metadata": {
  "kernelspec": {
   "display_name": "Python 3",
   "language": "python",
   "name": "python3"
  },
  "language_info": {
   "codemirror_mode": {
    "name": "ipython",
    "version": 3
   },
   "file_extension": ".py",
   "mimetype": "text/x-python",
   "name": "python",
   "nbconvert_exporter": "python",
   "pygments_lexer": "ipython3",
   "version": "3.7.3"
  }
 },
 "nbformat": 4,
 "nbformat_minor": 2
}
